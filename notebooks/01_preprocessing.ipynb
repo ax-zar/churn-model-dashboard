{
 "cells": [
  {
   "cell_type": "markdown",
   "id": "b6dff76e",
   "metadata": {},
   "source": [
    "# 01 – Preprocesamiento de Datos (Telco Customer Churn)\n",
    "**Preparación, limpieza y enriquecimiento del dataset para análisis y modelado predictivo**\n",
    "\n",
    "## Introducción\n",
    "\n",
    "En el sector de telecomunicaciones, la retención de clientes es un factor crítico para la rentabilidad y sostenibilidad del negocio. El fenómeno conocido como *churn*, que se refiere a la pérdida o abandono de clientes, representa un desafío constante para las empresas.\n",
    "\n",
    "Contar con datos de calidad y correctamente preparados es fundamental para desarrollar modelos predictivos efectivos que permitan anticipar el abandono y diseñar estrategias de retención adecuadas.\n",
    "\n",
    "## Objetivo\n",
    "\n",
    "El presente notebook tiene como finalidad transformar el dataset original de *Telco Customer Churn* en un conjunto de datos limpio, consistente y enriquecido. Se busca asegurar la trazabilidad y la coherencia de cada transformación aplicada, para facilitar el análisis exploratorio y el posterior desarrollo de modelos de predicción.\n",
    "\n",
    "---"
   ]
  },
  {
   "cell_type": "markdown",
   "id": "a20bdfe7",
   "metadata": {},
   "source": [
    "## 1. Carga y descripción inicial del dataset\n",
    "\n",
    "En esta sección se cargan los datos originales y se realiza una primera inspección para conocer su tamaño, estructura y variables disponibles. Este paso permite anticipar posibles problemas de calidad (valores faltantes, tipos incorrectos) antes de aplicar transformaciones.\n"
   ]
  },
  {
   "cell_type": "code",
   "execution_count": 1,
   "id": "8be5695f",
   "metadata": {},
   "outputs": [
    {
     "name": "stdout",
     "output_type": "stream",
     "text": [
      "Shape inicial: (7043, 21)\n"
     ]
    },
    {
     "data": {
      "application/vnd.microsoft.datawrangler.viewer.v0+json": {
       "columns": [
        {
         "name": "index",
         "rawType": "int64",
         "type": "integer"
        },
        {
         "name": "customerID",
         "rawType": "object",
         "type": "string"
        },
        {
         "name": "gender",
         "rawType": "object",
         "type": "string"
        },
        {
         "name": "SeniorCitizen",
         "rawType": "int64",
         "type": "integer"
        },
        {
         "name": "Partner",
         "rawType": "object",
         "type": "string"
        },
        {
         "name": "Dependents",
         "rawType": "object",
         "type": "string"
        },
        {
         "name": "tenure",
         "rawType": "int64",
         "type": "integer"
        },
        {
         "name": "PhoneService",
         "rawType": "object",
         "type": "string"
        },
        {
         "name": "MultipleLines",
         "rawType": "object",
         "type": "string"
        },
        {
         "name": "InternetService",
         "rawType": "object",
         "type": "string"
        },
        {
         "name": "OnlineSecurity",
         "rawType": "object",
         "type": "string"
        },
        {
         "name": "OnlineBackup",
         "rawType": "object",
         "type": "string"
        },
        {
         "name": "DeviceProtection",
         "rawType": "object",
         "type": "string"
        },
        {
         "name": "TechSupport",
         "rawType": "object",
         "type": "string"
        },
        {
         "name": "StreamingTV",
         "rawType": "object",
         "type": "string"
        },
        {
         "name": "StreamingMovies",
         "rawType": "object",
         "type": "string"
        },
        {
         "name": "Contract",
         "rawType": "object",
         "type": "string"
        },
        {
         "name": "PaperlessBilling",
         "rawType": "object",
         "type": "string"
        },
        {
         "name": "PaymentMethod",
         "rawType": "object",
         "type": "string"
        },
        {
         "name": "MonthlyCharges",
         "rawType": "float64",
         "type": "float"
        },
        {
         "name": "TotalCharges",
         "rawType": "object",
         "type": "string"
        },
        {
         "name": "Churn",
         "rawType": "object",
         "type": "string"
        }
       ],
       "ref": "c0261186-92b1-4725-97e6-b574ca8a7ea9",
       "rows": [
        [
         "0",
         "7590-VHVEG",
         "Female",
         "0",
         "Yes",
         "No",
         "1",
         "No",
         "No phone service",
         "DSL",
         "No",
         "Yes",
         "No",
         "No",
         "No",
         "No",
         "Month-to-month",
         "Yes",
         "Electronic check",
         "29.85",
         "29.85",
         "No"
        ],
        [
         "1",
         "5575-GNVDE",
         "Male",
         "0",
         "No",
         "No",
         "34",
         "Yes",
         "No",
         "DSL",
         "Yes",
         "No",
         "Yes",
         "No",
         "No",
         "No",
         "One year",
         "No",
         "Mailed check",
         "56.95",
         "1889.5",
         "No"
        ],
        [
         "2",
         "3668-QPYBK",
         "Male",
         "0",
         "No",
         "No",
         "2",
         "Yes",
         "No",
         "DSL",
         "Yes",
         "Yes",
         "No",
         "No",
         "No",
         "No",
         "Month-to-month",
         "Yes",
         "Mailed check",
         "53.85",
         "108.15",
         "Yes"
        ],
        [
         "3",
         "7795-CFOCW",
         "Male",
         "0",
         "No",
         "No",
         "45",
         "No",
         "No phone service",
         "DSL",
         "Yes",
         "No",
         "Yes",
         "Yes",
         "No",
         "No",
         "One year",
         "No",
         "Bank transfer (automatic)",
         "42.3",
         "1840.75",
         "No"
        ],
        [
         "4",
         "9237-HQITU",
         "Female",
         "0",
         "No",
         "No",
         "2",
         "Yes",
         "No",
         "Fiber optic",
         "No",
         "No",
         "No",
         "No",
         "No",
         "No",
         "Month-to-month",
         "Yes",
         "Electronic check",
         "70.7",
         "151.65",
         "Yes"
        ]
       ],
       "shape": {
        "columns": 21,
        "rows": 5
       }
      },
      "text/html": [
       "<div>\n",
       "<style scoped>\n",
       "    .dataframe tbody tr th:only-of-type {\n",
       "        vertical-align: middle;\n",
       "    }\n",
       "\n",
       "    .dataframe tbody tr th {\n",
       "        vertical-align: top;\n",
       "    }\n",
       "\n",
       "    .dataframe thead th {\n",
       "        text-align: right;\n",
       "    }\n",
       "</style>\n",
       "<table border=\"1\" class=\"dataframe\">\n",
       "  <thead>\n",
       "    <tr style=\"text-align: right;\">\n",
       "      <th></th>\n",
       "      <th>customerID</th>\n",
       "      <th>gender</th>\n",
       "      <th>SeniorCitizen</th>\n",
       "      <th>Partner</th>\n",
       "      <th>Dependents</th>\n",
       "      <th>tenure</th>\n",
       "      <th>PhoneService</th>\n",
       "      <th>MultipleLines</th>\n",
       "      <th>InternetService</th>\n",
       "      <th>OnlineSecurity</th>\n",
       "      <th>...</th>\n",
       "      <th>DeviceProtection</th>\n",
       "      <th>TechSupport</th>\n",
       "      <th>StreamingTV</th>\n",
       "      <th>StreamingMovies</th>\n",
       "      <th>Contract</th>\n",
       "      <th>PaperlessBilling</th>\n",
       "      <th>PaymentMethod</th>\n",
       "      <th>MonthlyCharges</th>\n",
       "      <th>TotalCharges</th>\n",
       "      <th>Churn</th>\n",
       "    </tr>\n",
       "  </thead>\n",
       "  <tbody>\n",
       "    <tr>\n",
       "      <th>0</th>\n",
       "      <td>7590-VHVEG</td>\n",
       "      <td>Female</td>\n",
       "      <td>0</td>\n",
       "      <td>Yes</td>\n",
       "      <td>No</td>\n",
       "      <td>1</td>\n",
       "      <td>No</td>\n",
       "      <td>No phone service</td>\n",
       "      <td>DSL</td>\n",
       "      <td>No</td>\n",
       "      <td>...</td>\n",
       "      <td>No</td>\n",
       "      <td>No</td>\n",
       "      <td>No</td>\n",
       "      <td>No</td>\n",
       "      <td>Month-to-month</td>\n",
       "      <td>Yes</td>\n",
       "      <td>Electronic check</td>\n",
       "      <td>29.85</td>\n",
       "      <td>29.85</td>\n",
       "      <td>No</td>\n",
       "    </tr>\n",
       "    <tr>\n",
       "      <th>1</th>\n",
       "      <td>5575-GNVDE</td>\n",
       "      <td>Male</td>\n",
       "      <td>0</td>\n",
       "      <td>No</td>\n",
       "      <td>No</td>\n",
       "      <td>34</td>\n",
       "      <td>Yes</td>\n",
       "      <td>No</td>\n",
       "      <td>DSL</td>\n",
       "      <td>Yes</td>\n",
       "      <td>...</td>\n",
       "      <td>Yes</td>\n",
       "      <td>No</td>\n",
       "      <td>No</td>\n",
       "      <td>No</td>\n",
       "      <td>One year</td>\n",
       "      <td>No</td>\n",
       "      <td>Mailed check</td>\n",
       "      <td>56.95</td>\n",
       "      <td>1889.5</td>\n",
       "      <td>No</td>\n",
       "    </tr>\n",
       "    <tr>\n",
       "      <th>2</th>\n",
       "      <td>3668-QPYBK</td>\n",
       "      <td>Male</td>\n",
       "      <td>0</td>\n",
       "      <td>No</td>\n",
       "      <td>No</td>\n",
       "      <td>2</td>\n",
       "      <td>Yes</td>\n",
       "      <td>No</td>\n",
       "      <td>DSL</td>\n",
       "      <td>Yes</td>\n",
       "      <td>...</td>\n",
       "      <td>No</td>\n",
       "      <td>No</td>\n",
       "      <td>No</td>\n",
       "      <td>No</td>\n",
       "      <td>Month-to-month</td>\n",
       "      <td>Yes</td>\n",
       "      <td>Mailed check</td>\n",
       "      <td>53.85</td>\n",
       "      <td>108.15</td>\n",
       "      <td>Yes</td>\n",
       "    </tr>\n",
       "    <tr>\n",
       "      <th>3</th>\n",
       "      <td>7795-CFOCW</td>\n",
       "      <td>Male</td>\n",
       "      <td>0</td>\n",
       "      <td>No</td>\n",
       "      <td>No</td>\n",
       "      <td>45</td>\n",
       "      <td>No</td>\n",
       "      <td>No phone service</td>\n",
       "      <td>DSL</td>\n",
       "      <td>Yes</td>\n",
       "      <td>...</td>\n",
       "      <td>Yes</td>\n",
       "      <td>Yes</td>\n",
       "      <td>No</td>\n",
       "      <td>No</td>\n",
       "      <td>One year</td>\n",
       "      <td>No</td>\n",
       "      <td>Bank transfer (automatic)</td>\n",
       "      <td>42.30</td>\n",
       "      <td>1840.75</td>\n",
       "      <td>No</td>\n",
       "    </tr>\n",
       "    <tr>\n",
       "      <th>4</th>\n",
       "      <td>9237-HQITU</td>\n",
       "      <td>Female</td>\n",
       "      <td>0</td>\n",
       "      <td>No</td>\n",
       "      <td>No</td>\n",
       "      <td>2</td>\n",
       "      <td>Yes</td>\n",
       "      <td>No</td>\n",
       "      <td>Fiber optic</td>\n",
       "      <td>No</td>\n",
       "      <td>...</td>\n",
       "      <td>No</td>\n",
       "      <td>No</td>\n",
       "      <td>No</td>\n",
       "      <td>No</td>\n",
       "      <td>Month-to-month</td>\n",
       "      <td>Yes</td>\n",
       "      <td>Electronic check</td>\n",
       "      <td>70.70</td>\n",
       "      <td>151.65</td>\n",
       "      <td>Yes</td>\n",
       "    </tr>\n",
       "  </tbody>\n",
       "</table>\n",
       "<p>5 rows × 21 columns</p>\n",
       "</div>"
      ],
      "text/plain": [
       "   customerID  gender  SeniorCitizen Partner Dependents  tenure PhoneService  \\\n",
       "0  7590-VHVEG  Female              0     Yes         No       1           No   \n",
       "1  5575-GNVDE    Male              0      No         No      34          Yes   \n",
       "2  3668-QPYBK    Male              0      No         No       2          Yes   \n",
       "3  7795-CFOCW    Male              0      No         No      45           No   \n",
       "4  9237-HQITU  Female              0      No         No       2          Yes   \n",
       "\n",
       "      MultipleLines InternetService OnlineSecurity  ... DeviceProtection  \\\n",
       "0  No phone service             DSL             No  ...               No   \n",
       "1                No             DSL            Yes  ...              Yes   \n",
       "2                No             DSL            Yes  ...               No   \n",
       "3  No phone service             DSL            Yes  ...              Yes   \n",
       "4                No     Fiber optic             No  ...               No   \n",
       "\n",
       "  TechSupport StreamingTV StreamingMovies        Contract PaperlessBilling  \\\n",
       "0          No          No              No  Month-to-month              Yes   \n",
       "1          No          No              No        One year               No   \n",
       "2          No          No              No  Month-to-month              Yes   \n",
       "3         Yes          No              No        One year               No   \n",
       "4          No          No              No  Month-to-month              Yes   \n",
       "\n",
       "               PaymentMethod MonthlyCharges  TotalCharges Churn  \n",
       "0           Electronic check          29.85         29.85    No  \n",
       "1               Mailed check          56.95        1889.5    No  \n",
       "2               Mailed check          53.85        108.15   Yes  \n",
       "3  Bank transfer (automatic)          42.30       1840.75    No  \n",
       "4           Electronic check          70.70        151.65   Yes  \n",
       "\n",
       "[5 rows x 21 columns]"
      ]
     },
     "execution_count": 1,
     "metadata": {},
     "output_type": "execute_result"
    }
   ],
   "source": [
    "import pandas as pd\n",
    "import numpy as np\n",
    "\n",
    "\n",
    "df = pd.read_csv('../data/raw/Telco-Customer-Churn.csv')\n",
    "\n",
    "print(f\"Shape inicial: {df.shape}\")\n",
    "df.head()\n"
   ]
  },
  {
   "cell_type": "markdown",
   "id": "e77c27f4",
   "metadata": {},
   "source": [
    "## 2. Diagnóstico inicial de calidad y tipos de datos\n",
    "\n",
    "Se utiliza la función `info()` para identificar el tipo de cada variable, así como la presencia de valores faltantes. Esta inspección es clave para determinar las siguientes acciones de limpieza y transformación.\n"
   ]
  },
  {
   "cell_type": "code",
   "execution_count": 2,
   "id": "651a8dd7",
   "metadata": {},
   "outputs": [
    {
     "name": "stdout",
     "output_type": "stream",
     "text": [
      "<class 'pandas.core.frame.DataFrame'>\n",
      "RangeIndex: 7043 entries, 0 to 7042\n",
      "Data columns (total 21 columns):\n",
      " #   Column            Non-Null Count  Dtype  \n",
      "---  ------            --------------  -----  \n",
      " 0   customerID        7043 non-null   object \n",
      " 1   gender            7043 non-null   object \n",
      " 2   SeniorCitizen     7043 non-null   int64  \n",
      " 3   Partner           7043 non-null   object \n",
      " 4   Dependents        7043 non-null   object \n",
      " 5   tenure            7043 non-null   int64  \n",
      " 6   PhoneService      7043 non-null   object \n",
      " 7   MultipleLines     7043 non-null   object \n",
      " 8   InternetService   7043 non-null   object \n",
      " 9   OnlineSecurity    7043 non-null   object \n",
      " 10  OnlineBackup      7043 non-null   object \n",
      " 11  DeviceProtection  7043 non-null   object \n",
      " 12  TechSupport       7043 non-null   object \n",
      " 13  StreamingTV       7043 non-null   object \n",
      " 14  StreamingMovies   7043 non-null   object \n",
      " 15  Contract          7043 non-null   object \n",
      " 16  PaperlessBilling  7043 non-null   object \n",
      " 17  PaymentMethod     7043 non-null   object \n",
      " 18  MonthlyCharges    7043 non-null   float64\n",
      " 19  TotalCharges      7043 non-null   object \n",
      " 20  Churn             7043 non-null   object \n",
      "dtypes: float64(1), int64(2), object(18)\n",
      "memory usage: 1.1+ MB\n"
     ]
    }
   ],
   "source": [
    "df.info()"
   ]
  },
  {
   "cell_type": "markdown",
   "id": "48676d90",
   "metadata": {},
   "source": [
    "## 3. Conversión de la variable `TotalCharges` a formato numérico\n",
    "\n",
    "La columna `TotalCharges` representa el total facturado a cada cliente durante el periodo de su relación con la empresa. Sin embargo, esta variable fue almacenada originalmente como texto, lo cual impide realizar cálculos y análisis estadísticos adecuados.\n",
    "\n",
    "Para corregir esto, aplicamos la función `pd.to_numeric()` con el parámetro `errors='coerce'`, que convierte los valores no numéricos a `NaN` (valores faltantes). Esta acción nos permite identificar registros con datos inválidos que requieren tratamiento específico en etapas posteriores."
   ]
  },
  {
   "cell_type": "code",
   "execution_count": 3,
   "id": "efce18f5",
   "metadata": {},
   "outputs": [],
   "source": [
    "# Forzar conversión a numérico\n",
    "df['TotalCharges'] = pd.to_numeric(df['TotalCharges'], errors='coerce')"
   ]
  },
  {
   "cell_type": "markdown",
   "id": "fd530321",
   "metadata": {},
   "source": [
    "## 4. Eliminación de registros con valores nulos en `TotalCharges`\n",
    "\n",
    "Los valores nulos identificados en la columna `TotalCharges` corresponden a clientes cuyo `tenure` es igual a cero, es decir, clientes que han contratado el servicio pero aún no han generado facturación.\n",
    "\n",
    "Dado que estos registros no aportan información útil para el análisis y modelado, se decide eliminarlos para evitar sesgos o errores posteriores."
   ]
  },
  {
   "cell_type": "code",
   "execution_count": 4,
   "id": "9f134234",
   "metadata": {},
   "outputs": [],
   "source": [
    "# Eliminar registros con TotalCharges nulo\n",
    "df = df.dropna(subset=['TotalCharges'])\n"
   ]
  },
  {
   "cell_type": "markdown",
   "id": "fdb8cbf2",
   "metadata": {},
   "source": [
    "## 5. Eliminación de la variable `customerID` y registros duplicados\n",
    "\n",
    "La columna `customerID` es un identificador único para cada cliente, pero no aporta información relevante para la predicción de *churn*. Por ello, se elimina para evitar confusión y mantener un conjunto de datos limpio."
   ]
  },
  {
   "cell_type": "code",
   "execution_count": 5,
   "id": "b6c43b66",
   "metadata": {},
   "outputs": [
    {
     "name": "stdout",
     "output_type": "stream",
     "text": [
      "Registros duplicados: 22\n",
      "Registros duplicados (Tras limpieza): 0\n"
     ]
    }
   ],
   "source": [
    "df.drop(columns='customerID', inplace=True)\n",
    "\n",
    "print(f\"Registros duplicados: {df.duplicated().sum()}\")\n",
    "df.drop_duplicates(inplace=True)\n",
    "print(f\"Registros duplicados (Tras limpieza): {df.duplicated().sum()}\")\n"
   ]
  },
  {
   "cell_type": "markdown",
   "id": "b99576ca",
   "metadata": {},
   "source": [
    "## 6. Revisión y normalización de variables categóricas\n",
    "\n",
    "Se identificaron las variables categóricas para revisar su cardinalidad, es decir, el número de categorías únicas que contienen. Esta revisión permite detectar posibles valores atípicos o inconsistentes que afecten el análisis y modelado."
   ]
  },
  {
   "cell_type": "code",
   "execution_count": 6,
   "id": "9b27c380",
   "metadata": {},
   "outputs": [
    {
     "name": "stdout",
     "output_type": "stream",
     "text": [
      "gender: 2 unique → ['Female' 'Male']\n",
      "Partner: 2 unique → ['Yes' 'No']\n",
      "Dependents: 2 unique → ['No' 'Yes']\n",
      "PhoneService: 2 unique → ['No' 'Yes']\n",
      "MultipleLines: 3 unique → ['No phone service' 'No' 'Yes']\n",
      "InternetService: 3 unique → ['DSL' 'Fiber optic' 'No']\n",
      "OnlineSecurity: 3 unique → ['No' 'Yes' 'No internet service']\n",
      "OnlineBackup: 3 unique → ['Yes' 'No' 'No internet service']\n",
      "DeviceProtection: 3 unique → ['No' 'Yes' 'No internet service']\n",
      "TechSupport: 3 unique → ['No' 'Yes' 'No internet service']\n",
      "StreamingTV: 3 unique → ['No' 'Yes' 'No internet service']\n",
      "StreamingMovies: 3 unique → ['No' 'Yes' 'No internet service']\n",
      "Contract: 3 unique → ['Month-to-month' 'One year' 'Two year']\n",
      "PaperlessBilling: 2 unique → ['Yes' 'No']\n",
      "PaymentMethod: 4 unique → ['Electronic check' 'Mailed check' 'Bank transfer (automatic)'\n",
      " 'Credit card (automatic)']\n",
      "Churn: 2 unique → ['No' 'Yes']\n"
     ]
    }
   ],
   "source": [
    "cat_cols = df.select_dtypes(include='object').columns.tolist()\n",
    "for col in cat_cols:\n",
    "    print(f\"{col}: {df[col].nunique()} unique → {df[col].unique()}\")\n"
   ]
  },
  {
   "cell_type": "code",
   "execution_count": 7,
   "id": "6acb6976",
   "metadata": {},
   "outputs": [],
   "source": [
    "cols_with_no_service = [\n",
    "    'OnlineSecurity', 'OnlineBackup', 'DeviceProtection',\n",
    "    'TechSupport', 'StreamingTV', 'StreamingMovies'\n",
    "]\n",
    "\n",
    "for col in cols_with_no_service:\n",
    "    df[col] = df[col].replace({'No internet service': 'No'})\n",
    "\n",
    "df['MultipleLines'] = df['MultipleLines'].replace({'No phone service': 'No'})\n"
   ]
  },
  {
   "cell_type": "markdown",
   "id": "9684ff0e",
   "metadata": {},
   "source": [
    "Variables como `OnlineSecurity`, `StreamingTV`, etc., contenían la categoría `\"No internet service\"`.  \n",
    "Esa información ya está capturada en `InternetService`, por lo que se normaliza a `\"No\"` para reducir ruido e inconsistencias.\n"
   ]
  },
  {
   "cell_type": "markdown",
   "id": "c96f9440",
   "metadata": {},
   "source": [
    "## 7. Creación de variables derivadas\n",
    "\n",
    "Para enriquecer el dataset con información relevante para el análisis y modelado, se generan dos variables adicionales:\n",
    "\n",
    "- **`tenure_group`**: segmenta la antigüedad del cliente en rangos definidos (meses), facilitando el análisis por grupos de duración de servicio.\n",
    "\n",
    "- **`MultipleServices`**: calcula la cantidad de servicios contratados por cada cliente, funcionando como un indicador del nivel de compromiso o vinculación con la empresa."
   ]
  },
  {
   "cell_type": "code",
   "execution_count": 8,
   "id": "1c770427",
   "metadata": {},
   "outputs": [],
   "source": [
    "# Agrupación por antigüedad\n",
    "df['tenure_group'] = pd.cut(df['tenure'], bins=[0, 6, 12, 24, 48, 72],\n",
    "                            labels=['0-6','6-12','12-24','24-48','48-72'])\n",
    "\n",
    "# Conteo de servicios contratados\n",
    "service_cols = ['PhoneService', 'InternetService', 'OnlineSecurity', 'OnlineBackup',\n",
    "                'DeviceProtection', 'TechSupport', 'StreamingTV', 'StreamingMovies']\n",
    "\n",
    "df['MultipleServices'] = df[service_cols].apply(lambda row: sum(val == 'Yes' for val in row), axis=1)\n"
   ]
  },
  {
   "cell_type": "markdown",
   "id": "0f43f590",
   "metadata": {},
   "source": [
    "## 8. Verificación final y exportación del dataset limpio\n",
    "\n",
    "Se realiza una última revisión para asegurar que no existan valores nulos ni duplicados en el dataset, garantizando la calidad y la integridad de los datos para las siguientes etapas.\n"
   ]
  },
  {
   "cell_type": "code",
   "execution_count": 9,
   "id": "723a4f4c",
   "metadata": {},
   "outputs": [
    {
     "name": "stdout",
     "output_type": "stream",
     "text": [
      "Verificación final de nulos:\n",
      "gender              0\n",
      "SeniorCitizen       0\n",
      "Partner             0\n",
      "Dependents          0\n",
      "tenure              0\n",
      "PhoneService        0\n",
      "MultipleLines       0\n",
      "InternetService     0\n",
      "OnlineSecurity      0\n",
      "OnlineBackup        0\n",
      "DeviceProtection    0\n",
      "TechSupport         0\n",
      "StreamingTV         0\n",
      "StreamingMovies     0\n",
      "Contract            0\n",
      "PaperlessBilling    0\n",
      "PaymentMethod       0\n",
      "MonthlyCharges      0\n",
      "TotalCharges        0\n",
      "Churn               0\n",
      "tenure_group        0\n",
      "MultipleServices    0\n",
      "dtype: int64\n",
      "Duplicados restantes: 0\n",
      "Dimensión final: (7010, 22)\n"
     ]
    }
   ],
   "source": [
    "print(\"Verificación final de nulos:\")\n",
    "print(df.isnull().sum())\n",
    "\n",
    "print(f\"Duplicados restantes: {df.duplicated().sum()}\")\n",
    "print(f\"Dimensión final: {df.shape}\")\n",
    "\n"
   ]
  },
  {
   "cell_type": "code",
   "execution_count": 10,
   "id": "b7879007",
   "metadata": {},
   "outputs": [],
   "source": [
    "df.to_csv('../data/processed/clean_telco.csv', index=False)"
   ]
  },
  {
   "cell_type": "markdown",
   "id": "594d3f17",
   "metadata": {},
   "source": [
    "### Conclusión\n",
    "\n",
    "En este notebook se ha llevado a cabo un proceso riguroso de preprocesamiento para preparar el dataset original de *Telco Customer Churn* para las etapas posteriores de análisis y modelado.  \n",
    "\n",
    "Se realizaron las siguientes acciones clave:  \n",
    "- Identificación y corrección de tipos de datos incorrectos, especialmente en variables numéricas críticas como `TotalCharges`.  \n",
    "- Eliminación de registros inválidos o redundantes, asegurando la integridad y calidad del conjunto de datos.  \n",
    "- Normalización de categorías para reducir ruido y simplificar la interpretación de variables categóricas.  \n",
    "- Creación de variables derivadas relevantes para el análisis de clientes y su comportamiento.  \n",
    "- Verificación exhaustiva de datos faltantes y duplicados, confirmando que el conjunto final está limpio y listo para análisis exploratorio.\n",
    "\n",
    "Este trabajo garantiza una base sólida y confiable que permitirá desarrollar modelos predictivos robustos y aportar insights valiosos para la retención de clientes en el sector telecomunicaciones.\n",
    "\n",
    "El siguiente paso consistirá en explorar en profundidad las características del dataset, identificando patrones y relaciones que orienten la selección y construcción de modelos."
   ]
  }
 ],
 "metadata": {
  "kernelspec": {
   "display_name": "venv",
   "language": "python",
   "name": "python3"
  },
  "language_info": {
   "codemirror_mode": {
    "name": "ipython",
    "version": 3
   },
   "file_extension": ".py",
   "mimetype": "text/x-python",
   "name": "python",
   "nbconvert_exporter": "python",
   "pygments_lexer": "ipython3",
   "version": "3.10.11"
  }
 },
 "nbformat": 4,
 "nbformat_minor": 5
}
